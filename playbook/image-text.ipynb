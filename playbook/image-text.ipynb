{
 "cells": [
  {
   "cell_type": "code",
   "execution_count": null,
   "metadata": {},
   "outputs": [],
   "source": [
    "# %pip install opencv-python\n",
    "# %pip install pip install pytesseract\n",
    "# %pip install easyocr\n",
    "# %pip install pillow\n",
    "# %pip install opencv-contrib-python --user\n",
    "%pip list"
   ]
  },
  {
   "cell_type": "code",
   "execution_count": 1,
   "metadata": {},
   "outputs": [],
   "source": [
    "import pytesseract\n",
    "\n",
    "pytesseract.pytesseract.tesseract_cmd = r'C:\\\\Program Files\\\\Tesseract-OCR\\\\tesseract.exe'"
   ]
  },
  {
   "cell_type": "code",
   "execution_count": 8,
   "metadata": {},
   "outputs": [],
   "source": [
    "import cv2\n",
    "\n",
    "# image = cv2.imread('C:\\\\Users\\\\neel4\\\\Dropbox\\\\receipts\\\\2023\\\\01-07-vishala.jpg')\n",
    "image = cv2.imread('C:\\\\Users\\\\neel4\\\\Downloads\\\\tmp\\\\01-02-vishala.jpg',0)"
   ]
  },
  {
   "cell_type": "code",
   "execution_count": 9,
   "metadata": {},
   "outputs": [
    {
     "ename": "error",
     "evalue": "OpenCV(4.8.0) D:\\a\\opencv-python\\opencv-python\\opencv\\modules\\imgproc\\src\\thresh.cpp:1555: error: (-2:Unspecified error) in function 'double __cdecl cv::threshold(const class cv::_InputArray &,const class cv::_OutputArray &,double,double,int)'\n> THRESH_OTSU mode:\n>     'src_type == CV_8UC1 || src_type == CV_16UC1'\n> where\n>     'src_type' is 16 (CV_8UC3)\n",
     "output_type": "error",
     "traceback": [
      "\u001b[1;31m---------------------------------------------------------------------------\u001b[0m",
      "\u001b[1;31merror\u001b[0m                                     Traceback (most recent call last)",
      "Cell \u001b[1;32mIn[9], line 2\u001b[0m\n\u001b[0;32m      1\u001b[0m rgba \u001b[39m=\u001b[39m cv2\u001b[39m.\u001b[39mcvtColor(image, cv2\u001b[39m.\u001b[39mCOLOR_BGR2RGB)\n\u001b[1;32m----> 2\u001b[0m thresh \u001b[39m=\u001b[39m cv2\u001b[39m.\u001b[39;49mthreshold(rgba,\u001b[39m0\u001b[39;49m,\u001b[39m255\u001b[39;49m,cv2\u001b[39m.\u001b[39;49mTHRESH_BINARY_INV\u001b[39m|\u001b[39;49mcv2\u001b[39m.\u001b[39;49mTHRESH_OTSU)[\u001b[39m1\u001b[39m]\n\u001b[0;32m      3\u001b[0m median \u001b[39m=\u001b[39m cv2\u001b[39m.\u001b[39mmedianBlur(thresh,\u001b[39m3\u001b[39m)\n",
      "\u001b[1;31merror\u001b[0m: OpenCV(4.8.0) D:\\a\\opencv-python\\opencv-python\\opencv\\modules\\imgproc\\src\\thresh.cpp:1555: error: (-2:Unspecified error) in function 'double __cdecl cv::threshold(const class cv::_InputArray &,const class cv::_OutputArray &,double,double,int)'\n> THRESH_OTSU mode:\n>     'src_type == CV_8UC1 || src_type == CV_16UC1'\n> where\n>     'src_type' is 16 (CV_8UC3)\n"
     ]
    }
   ],
   "source": [
    "rgba = cv2.cvtColor(image, cv2.COLOR_BGR2RGB)\n",
    "thresh = cv2.threshold(rgba,0,255,cv2.THRESH_BINARY_INV|cv2.THRESH_OTSU)[1]\n",
    "median = cv2.medianBlur(thresh,3)"
   ]
  },
  {
   "cell_type": "code",
   "execution_count": 5,
   "metadata": {},
   "outputs": [],
   "source": [
    "textimg = pytesseract.image_to_string(image)\n",
    "# textmed=pytesseract.image_to_string(median)"
   ]
  },
  {
   "cell_type": "code",
   "execution_count": 6,
   "metadata": {},
   "outputs": [
    {
     "name": "stdout",
     "output_type": "stream",
     "text": [
      "gi\n",
      "\n",
      "me Se: cS\n",
      "ye oh: Ouse\n",
      "M5 betty Math + OM\n",
      "\n",
      "Nae UGE VISA\n",
      "fp tot oo\n",
      "\n",
      "ik Svseeroanies\n",
      "\n",
      "cont eaves ea\n",
      "\n",
      "‘Te OU FOR SPN AT VISULA 111\n",
      "He turban Mer oe\n",
      "Ne meat Fuente oe\n",
      "\n",
      "AUSALE # RBGTTOML Los\n",
      "\n",
      "ULL\n",
      "\n",
      "348\n",
      "\n",
      "\n"
     ]
    }
   ],
   "source": [
    "print(textimg)"
   ]
  },
  {
   "cell_type": "code",
   "execution_count": null,
   "metadata": {},
   "outputs": [],
   "source": [
    "print(textmed)"
   ]
  },
  {
   "cell_type": "code",
   "execution_count": null,
   "metadata": {},
   "outputs": [],
   "source": [
    "print(len(textimg))\n",
    "print(len(textmed))"
   ]
  },
  {
   "cell_type": "code",
   "execution_count": null,
   "metadata": {},
   "outputs": [],
   "source": [
    "txtimglines= textimg.splitlines()\n",
    "txtmedlines= textmed.splitlines()\n",
    "\n",
    "for i,imgln in enumerate(txtimglines):\n",
    "    if i<len(txtmedlines): \n",
    "        if txtmedlines[i]==imgln:\n",
    "            print(\"content is same:\\t\\t\\t\" + imgln)\n",
    "        else:\n",
    "            print(\"content isnot same:\\t\\t\" + imgln + \"\\t:-:\\t\" + txtmedlines[i])\n",
    "    else:\n",
    "        print(\"content isnot same:\\t\\t\" + imgln + \"\\t:-:\\t\")\n",
    "\n"
   ]
  },
  {
   "cell_type": "code",
   "execution_count": 41,
   "metadata": {},
   "outputs": [
    {
     "name": "stdout",
     "output_type": "stream",
     "text": [
      "Vish ala ey tH\n",
      "Webster 1X 77598\n",
      "(832) Y 499°5500\n",
      "\n",
      "NAME: pooja |\n",
      "\n",
      "INVOICE# 215140\n",
      "Closed to Credit Card Purchase\n",
      "\n",
      "pAeeLaNe {ides cues 6:02:47 PM\n",
      "CASHTER: Mitaben\n",
      "STATION: 02\n",
      "\n",
      "Customer Info\n",
      "\n",
      "Item Count: 18\n",
      "\n",
      "SCL FS WHITE POTATO / LB $6.40\n",
      "4,96 lb @ $1,29\n",
      "\n",
      "| FS GARLIC SLEEVE 4/5 PC $2.49\n",
      "1 FS CAULIFLOWER i EACH $).13\n",
      "4 FS AMERICAN EGGPLANT 2.16\n",
      "d FS METHI BUNCH / EACH $2.18\n",
      "\n",
      "SCL FS FRESH DESI OKRA 9.12\n",
      "\n",
      "$3.19/1b\n",
      "\n",
      "1 FS CAULIFLOWER k EACH $1.79\n",
      "SCL FS ROMA TOMA ES ib $3.85\n",
      "3 FS CILANTRO EACH 1.77\n",
      "2 FS GG BHEL SEV - 2B5GMS 3.86\n",
      "1S SHAD MIX MANGLORE 1002 $2.42\n",
      "im =OttCUR\n",
      "Credit $38.43\n",
      "CREDIT CARD PURCHASE $38.43\n",
      "Card\n",
      "\n",
      "rd Type: Visa\n",
      "\n",
      "Jobb 157 XX/XX\n",
      "Name: CARDHOLDER, V.\n",
      "Transaction Type: PURCHASE\n",
      "\n",
      "Ref Num\n",
      "Auth Code: 09160\n",
      "Card Entry Nethod Contactless EMV\n",
      "\n",
      "Name: CHASE VISA\n",
      "Ab AgoG0000031010\n",
      "\n",
      "re ‘het: \"3-592196670C794E\n",
      "\n",
      "Credit Card Signature\n",
      "\n",
      "Amount saved: $33.11\n",
      "\n",
      "THANK YOU FOR SHOPPING AT VISHALA !!!\n",
      "‘ wy Hy AU a arrer 0 4 S ;\n",
      "urn/Xc rozen,Dairy &Praduce\n",
      "No Return ANCA ERCHaAGe AK\n",
      "ALL SALE & PROMGT CCH ITEMS\n",
      "\n",
      "WW\n",
      "Invoice: 11001-215140\n",
      "\n"
     ]
    }
   ],
   "source": [
    "# image = cv2.imread('C:\\\\Users\\\\neel4\\\\Dropbox\\\\receipts\\\\2023\\\\01-02-vishala.jpg',0)\n",
    "image = cv2.imread('C:\\\\Users\\\\neel4\\\\Dropbox\\\\receipts\\\\2023\\\\01-14-vishala.jpg')\n",
    "# image = cv2.resize(image, dsize=(600,400))\n",
    "# image = cv2.cvtColor(image, cv2.COLOR_BGR2RGB)\n",
    "# image = cv2.threshold(image,0,255,cv2.THRESH_BINARY_INV|cv2.THRESH_OTSU)[1]\n",
    "# image = cv2.medianBlur(image,3)\n",
    "text = pytesseract.image_to_string(image)\n",
    "# text = pytesseract.image_to_string(median)\n",
    "print(text)"
   ]
  },
  {
   "cell_type": "code",
   "execution_count": 67,
   "metadata": {},
   "outputs": [
    {
     "data": {
      "text/plain": [
       "''"
      ]
     },
     "execution_count": 67,
     "metadata": {},
     "output_type": "execute_result"
    }
   ],
   "source": [
    "str(text)"
   ]
  },
  {
   "cell_type": "code",
   "execution_count": null,
   "metadata": {},
   "outputs": [],
   "source": []
  }
 ],
 "metadata": {
  "kernelspec": {
   "display_name": ".venv",
   "language": "python",
   "name": "python3"
  },
  "language_info": {
   "codemirror_mode": {
    "name": "ipython",
    "version": 3
   },
   "file_extension": ".py",
   "mimetype": "text/x-python",
   "name": "python",
   "nbconvert_exporter": "python",
   "pygments_lexer": "ipython3",
   "version": "3.11.5"
  },
  "orig_nbformat": 4
 },
 "nbformat": 4,
 "nbformat_minor": 2
}
